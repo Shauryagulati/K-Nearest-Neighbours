{
  "nbformat": 4,
  "nbformat_minor": 0,
  "metadata": {
    "colab": {
      "name": "K Nearest Neighbours",
      "provenance": []
    },
    "kernelspec": {
      "name": "python3",
      "display_name": "Python 3"
    }
  },
  "cells": [
    {
      "cell_type": "code",
      "metadata": {
        "id": "7V5EZ94njuA_",
        "colab_type": "code",
        "colab": {}
      },
      "source": [
        "from sklearn import preprocessing\n"
      ],
      "execution_count": 0,
      "outputs": []
    },
    {
      "cell_type": "code",
      "metadata": {
        "id": "gFiL-PtlP1nW",
        "colab_type": "code",
        "colab": {}
      },
      "source": [
        "import sklearn\n",
        "from sklearn.utils import shuffle\n",
        "from sklearn.neighbors import KNeighborsClassifier\n",
        "import pandas as pd\n",
        "import numpy as np\n",
        "from sklearn import linear_model, preprocessing"
      ],
      "execution_count": 0,
      "outputs": []
    },
    {
      "cell_type": "code",
      "metadata": {
        "id": "Y0A5tYjaP7qE",
        "colab_type": "code",
        "colab": {
          "resources": {
            "http://localhost:8080/nbextensions/google.colab/files.js": {
              "data": "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",
              "ok": true,
              "headers": [
                [
                  "content-type",
                  "application/javascript"
                ]
              ],
              "status": 200,
              "status_text": ""
            }
          },
          "base_uri": "https://localhost:8080/",
          "height": 72
        },
        "outputId": "234c6973-0091-4832-93b9-f37180a8ae50"
      },
      "source": [
        "from google.colab import files\n",
        "data = files.upload()"
      ],
      "execution_count": 8,
      "outputs": [
        {
          "output_type": "display_data",
          "data": {
            "text/html": [
              "\n",
              "     <input type=\"file\" id=\"files-6a80c346-dd27-4ff2-8a53-12904864eb5f\" name=\"files[]\" multiple disabled />\n",
              "     <output id=\"result-6a80c346-dd27-4ff2-8a53-12904864eb5f\">\n",
              "      Upload widget is only available when the cell has been executed in the\n",
              "      current browser session. Please rerun this cell to enable.\n",
              "      </output>\n",
              "      <script src=\"/nbextensions/google.colab/files.js\"></script> "
            ],
            "text/plain": [
              "<IPython.core.display.HTML object>"
            ]
          },
          "metadata": {
            "tags": []
          }
        },
        {
          "output_type": "stream",
          "text": [
            "Saving car.data to car (1).data\n"
          ],
          "name": "stdout"
        }
      ]
    },
    {
      "cell_type": "code",
      "metadata": {
        "id": "KHkJODvQQ_UX",
        "colab_type": "code",
        "colab": {
          "base_uri": "https://localhost:8080/",
          "height": 115
        },
        "outputId": "0b7f649f-6e0f-4f92-bc10-8c0fa931de17"
      },
      "source": [
        "data = pd.read_csv(\"car.data\")\n",
        "print(data.head())"
      ],
      "execution_count": 13,
      "outputs": [
        {
          "output_type": "stream",
          "text": [
            "  buying  maint door persons lug_boot safety  class\n",
            "0  vhigh  vhigh    2       2    small    low  unacc\n",
            "1  vhigh  vhigh    2       2    small    med  unacc\n",
            "2  vhigh  vhigh    2       2    small   high  unacc\n",
            "3  vhigh  vhigh    2       2      med    low  unacc\n",
            "4  vhigh  vhigh    2       2      med    med  unacc\n"
          ],
          "name": "stdout"
        }
      ]
    },
    {
      "cell_type": "code",
      "metadata": {
        "id": "VF6P5juQRB25",
        "colab_type": "code",
        "colab": {
          "base_uri": "https://localhost:8080/",
          "height": 33
        },
        "outputId": "c2f8923c-be2a-4c8a-c32c-adb62adde91d"
      },
      "source": [
        "data.size"
      ],
      "execution_count": 15,
      "outputs": [
        {
          "output_type": "execute_result",
          "data": {
            "text/plain": [
              "12096"
            ]
          },
          "metadata": {
            "tags": []
          },
          "execution_count": 15
        }
      ]
    },
    {
      "cell_type": "code",
      "metadata": {
        "id": "L_T1uoTIRVQU",
        "colab_type": "code",
        "colab": {}
      },
      "source": [
        "le = preprocessing.LabelEncoder()"
      ],
      "execution_count": 0,
      "outputs": []
    },
    {
      "cell_type": "code",
      "metadata": {
        "id": "ILSX_-wJRwfY",
        "colab_type": "code",
        "colab": {}
      },
      "source": [
        "buying = le.fit_transform(list(data[\"buying\"]))\n",
        "maint = le.fit_transform(list(data[\"maint\"]))\n",
        "door = le.fit_transform(list(data[\"door\"]))\n",
        "persons = le.fit_transform(list(data[\"persons\"]))\n",
        "lug_boot = le.fit_transform(list(data[\"lug_boot\"]))\n",
        "safety = le.fit_transform(list(data[\"safety\"]))\n",
        "cls = le.fit_transform(list(data[\"class\"]))"
      ],
      "execution_count": 0,
      "outputs": []
    },
    {
      "cell_type": "code",
      "metadata": {
        "id": "E5UGjP7_SGuk",
        "colab_type": "code",
        "colab": {
          "base_uri": "https://localhost:8080/",
          "height": 191
        },
        "outputId": "b74b94e8-3b97-48e1-d229-8c6f3c326f04"
      },
      "source": [
        "data.head()"
      ],
      "execution_count": 18,
      "outputs": [
        {
          "output_type": "execute_result",
          "data": {
            "text/html": [
              "<div>\n",
              "<style scoped>\n",
              "    .dataframe tbody tr th:only-of-type {\n",
              "        vertical-align: middle;\n",
              "    }\n",
              "\n",
              "    .dataframe tbody tr th {\n",
              "        vertical-align: top;\n",
              "    }\n",
              "\n",
              "    .dataframe thead th {\n",
              "        text-align: right;\n",
              "    }\n",
              "</style>\n",
              "<table border=\"1\" class=\"dataframe\">\n",
              "  <thead>\n",
              "    <tr style=\"text-align: right;\">\n",
              "      <th></th>\n",
              "      <th>buying</th>\n",
              "      <th>maint</th>\n",
              "      <th>door</th>\n",
              "      <th>persons</th>\n",
              "      <th>lug_boot</th>\n",
              "      <th>safety</th>\n",
              "      <th>class</th>\n",
              "    </tr>\n",
              "  </thead>\n",
              "  <tbody>\n",
              "    <tr>\n",
              "      <th>0</th>\n",
              "      <td>vhigh</td>\n",
              "      <td>vhigh</td>\n",
              "      <td>2</td>\n",
              "      <td>2</td>\n",
              "      <td>small</td>\n",
              "      <td>low</td>\n",
              "      <td>unacc</td>\n",
              "    </tr>\n",
              "    <tr>\n",
              "      <th>1</th>\n",
              "      <td>vhigh</td>\n",
              "      <td>vhigh</td>\n",
              "      <td>2</td>\n",
              "      <td>2</td>\n",
              "      <td>small</td>\n",
              "      <td>med</td>\n",
              "      <td>unacc</td>\n",
              "    </tr>\n",
              "    <tr>\n",
              "      <th>2</th>\n",
              "      <td>vhigh</td>\n",
              "      <td>vhigh</td>\n",
              "      <td>2</td>\n",
              "      <td>2</td>\n",
              "      <td>small</td>\n",
              "      <td>high</td>\n",
              "      <td>unacc</td>\n",
              "    </tr>\n",
              "    <tr>\n",
              "      <th>3</th>\n",
              "      <td>vhigh</td>\n",
              "      <td>vhigh</td>\n",
              "      <td>2</td>\n",
              "      <td>2</td>\n",
              "      <td>med</td>\n",
              "      <td>low</td>\n",
              "      <td>unacc</td>\n",
              "    </tr>\n",
              "    <tr>\n",
              "      <th>4</th>\n",
              "      <td>vhigh</td>\n",
              "      <td>vhigh</td>\n",
              "      <td>2</td>\n",
              "      <td>2</td>\n",
              "      <td>med</td>\n",
              "      <td>med</td>\n",
              "      <td>unacc</td>\n",
              "    </tr>\n",
              "  </tbody>\n",
              "</table>\n",
              "</div>"
            ],
            "text/plain": [
              "  buying  maint door persons lug_boot safety  class\n",
              "0  vhigh  vhigh    2       2    small    low  unacc\n",
              "1  vhigh  vhigh    2       2    small    med  unacc\n",
              "2  vhigh  vhigh    2       2    small   high  unacc\n",
              "3  vhigh  vhigh    2       2      med    low  unacc\n",
              "4  vhigh  vhigh    2       2      med    med  unacc"
            ]
          },
          "metadata": {
            "tags": []
          },
          "execution_count": 18
        }
      ]
    },
    {
      "cell_type": "code",
      "metadata": {
        "id": "oObeUTPKSiA4",
        "colab_type": "code",
        "colab": {
          "base_uri": "https://localhost:8080/",
          "height": 115
        },
        "outputId": "72db3e6e-3f00-4dcb-df9b-55defc54f146"
      },
      "source": [
        "print(data.head())"
      ],
      "execution_count": 19,
      "outputs": [
        {
          "output_type": "stream",
          "text": [
            "  buying  maint door persons lug_boot safety  class\n",
            "0  vhigh  vhigh    2       2    small    low  unacc\n",
            "1  vhigh  vhigh    2       2    small    med  unacc\n",
            "2  vhigh  vhigh    2       2    small   high  unacc\n",
            "3  vhigh  vhigh    2       2      med    low  unacc\n",
            "4  vhigh  vhigh    2       2      med    med  unacc\n"
          ],
          "name": "stdout"
        }
      ]
    },
    {
      "cell_type": "code",
      "metadata": {
        "id": "DHzKeD9KSln1",
        "colab_type": "code",
        "colab": {
          "base_uri": "https://localhost:8080/",
          "height": 33
        },
        "outputId": "68224cf4-3bb2-446f-a28a-884e97a20135"
      },
      "source": [
        "print(buying)"
      ],
      "execution_count": 20,
      "outputs": [
        {
          "output_type": "stream",
          "text": [
            "[3 3 3 ... 1 1 1]\n"
          ],
          "name": "stdout"
        }
      ]
    },
    {
      "cell_type": "code",
      "metadata": {
        "id": "CZTTX9lWSrvw",
        "colab_type": "code",
        "colab": {}
      },
      "source": [
        "X = list(zip(buying, maint, door, persons, lug_boot, safety))  # features\n",
        "y = list(cls)"
      ],
      "execution_count": 0,
      "outputs": []
    },
    {
      "cell_type": "code",
      "metadata": {
        "id": "YSADYdjSS1zt",
        "colab_type": "code",
        "colab": {}
      },
      "source": [
        "predict = \"class\""
      ],
      "execution_count": 0,
      "outputs": []
    },
    {
      "cell_type": "code",
      "metadata": {
        "id": "UIQYZLovS6KQ",
        "colab_type": "code",
        "colab": {}
      },
      "source": [
        "x_train, x_test, y_train, y_test = sklearn.model_selection.train_test_split(X, y, test_size = 0.1)"
      ],
      "execution_count": 0,
      "outputs": []
    },
    {
      "cell_type": "code",
      "metadata": {
        "id": "K4QoSLgHTNVw",
        "colab_type": "code",
        "colab": {}
      },
      "source": [
        "model = KNeighborsClassifier(n_neighbors=9)"
      ],
      "execution_count": 0,
      "outputs": []
    },
    {
      "cell_type": "code",
      "metadata": {
        "id": "qvLxVGPHYZqG",
        "colab_type": "code",
        "colab": {
          "base_uri": "https://localhost:8080/",
          "height": 66
        },
        "outputId": "617f822e-69d8-4948-8061-9e97047215f4"
      },
      "source": [
        "model.fit(x_train, y_train)"
      ],
      "execution_count": 37,
      "outputs": [
        {
          "output_type": "execute_result",
          "data": {
            "text/plain": [
              "KNeighborsClassifier(algorithm='auto', leaf_size=30, metric='minkowski',\n",
              "                     metric_params=None, n_jobs=None, n_neighbors=9, p=2,\n",
              "                     weights='uniform')"
            ]
          },
          "metadata": {
            "tags": []
          },
          "execution_count": 37
        }
      ]
    },
    {
      "cell_type": "code",
      "metadata": {
        "id": "uqiT89O2YhDC",
        "colab_type": "code",
        "colab": {
          "base_uri": "https://localhost:8080/",
          "height": 33
        },
        "outputId": "3f95b894-43c3-4578-e0ea-02de7f8a3ee5"
      },
      "source": [
        "acc = model.score(x_test, y_test)\n",
        "print(acc)"
      ],
      "execution_count": 38,
      "outputs": [
        {
          "output_type": "stream",
          "text": [
            "0.9248554913294798\n"
          ],
          "name": "stdout"
        }
      ]
    },
    {
      "cell_type": "code",
      "metadata": {
        "id": "BB9cFanbYj2D",
        "colab_type": "code",
        "colab": {
          "base_uri": "https://localhost:8080/",
          "height": 1000
        },
        "outputId": "87dc00e5-24dc-4500-f355-578c0dee1729"
      },
      "source": [
        "predicted = model.predict(x_test)\n",
        "names = [\"unacc\", \"acc\", \"good\", \"vgood\"]\n",
        "\n",
        "for x in range(len(predicted)):\n",
        "    print(\"Predicted: \", names[predicted[x]], \"     Data: \", x_test[x], \"      Actual: \", names[y_test[x]])"
      ],
      "execution_count": 40,
      "outputs": [
        {
          "output_type": "stream",
          "text": [
            "Predicted:  good      Data:  (3, 0, 4, 0, 0, 0)       Actual:  good\n",
            "Predicted:  good      Data:  (3, 0, 1, 0, 0, 2)       Actual:  good\n",
            "Predicted:  good      Data:  (3, 2, 3, 2, 2, 1)       Actual:  good\n",
            "Predicted:  good      Data:  (1, 1, 1, 0, 0, 0)       Actual:  good\n",
            "Predicted:  good      Data:  (0, 2, 0, 1, 2, 2)       Actual:  good\n",
            "Predicted:  good      Data:  (3, 3, 3, 1, 0, 2)       Actual:  good\n",
            "Predicted:  unacc      Data:  (3, 2, 3, 2, 1, 0)       Actual:  unacc\n",
            "Predicted:  good      Data:  (2, 0, 1, 0, 1, 2)       Actual:  good\n",
            "Predicted:  good      Data:  (3, 2, 0, 2, 0, 1)       Actual:  good\n",
            "Predicted:  good      Data:  (1, 2, 0, 2, 2, 0)       Actual:  good\n",
            "Predicted:  good      Data:  (2, 2, 3, 0, 1, 0)       Actual:  good\n",
            "Predicted:  good      Data:  (2, 0, 0, 0, 2, 0)       Actual:  good\n",
            "Predicted:  good      Data:  (0, 0, 1, 2, 1, 1)       Actual:  good\n",
            "Predicted:  good      Data:  (0, 1, 1, 0, 2, 0)       Actual:  good\n",
            "Predicted:  unacc      Data:  (2, 0, 3, 1, 0, 0)       Actual:  unacc\n",
            "Predicted:  good      Data:  (1, 2, 2, 1, 1, 1)       Actual:  good\n",
            "Predicted:  good      Data:  (2, 0, 3, 0, 2, 2)       Actual:  good\n",
            "Predicted:  good      Data:  (0, 2, 0, 1, 0, 2)       Actual:  unacc\n",
            "Predicted:  good      Data:  (0, 2, 3, 1, 0, 1)       Actual:  good\n",
            "Predicted:  unacc      Data:  (2, 0, 1, 1, 0, 0)       Actual:  unacc\n",
            "Predicted:  unacc      Data:  (0, 1, 0, 1, 2, 0)       Actual:  unacc\n",
            "Predicted:  good      Data:  (0, 1, 0, 0, 2, 1)       Actual:  good\n",
            "Predicted:  good      Data:  (3, 3, 2, 2, 2, 0)       Actual:  good\n",
            "Predicted:  good      Data:  (2, 1, 0, 0, 1, 2)       Actual:  good\n",
            "Predicted:  good      Data:  (0, 1, 0, 1, 1, 1)       Actual:  good\n",
            "Predicted:  good      Data:  (1, 2, 3, 2, 1, 1)       Actual:  good\n",
            "Predicted:  unacc      Data:  (0, 0, 1, 2, 2, 0)       Actual:  unacc\n",
            "Predicted:  good      Data:  (0, 2, 3, 2, 1, 1)       Actual:  good\n",
            "Predicted:  unacc      Data:  (1, 0, 0, 2, 1, 0)       Actual:  unacc\n",
            "Predicted:  unacc      Data:  (0, 2, 2, 2, 0, 0)       Actual:  unacc\n",
            "Predicted:  unacc      Data:  (1, 3, 2, 2, 0, 2)       Actual:  unacc\n",
            "Predicted:  good      Data:  (2, 3, 2, 2, 2, 2)       Actual:  good\n",
            "Predicted:  good      Data:  (2, 1, 2, 1, 0, 1)       Actual:  good\n",
            "Predicted:  good      Data:  (1, 3, 2, 0, 2, 0)       Actual:  good\n",
            "Predicted:  good      Data:  (1, 0, 3, 1, 2, 1)       Actual:  good\n",
            "Predicted:  good      Data:  (0, 1, 0, 0, 2, 0)       Actual:  good\n",
            "Predicted:  unacc      Data:  (3, 1, 0, 1, 2, 0)       Actual:  unacc\n",
            "Predicted:  good      Data:  (2, 0, 1, 2, 0, 1)       Actual:  good\n",
            "Predicted:  good      Data:  (2, 0, 3, 2, 1, 2)       Actual:  unacc\n",
            "Predicted:  good      Data:  (2, 0, 3, 1, 1, 2)       Actual:  unacc\n",
            "Predicted:  good      Data:  (2, 0, 0, 2, 0, 2)       Actual:  unacc\n",
            "Predicted:  good      Data:  (1, 1, 0, 0, 2, 0)       Actual:  good\n",
            "Predicted:  good      Data:  (0, 3, 2, 0, 2, 1)       Actual:  good\n",
            "Predicted:  good      Data:  (2, 3, 2, 0, 1, 1)       Actual:  good\n",
            "Predicted:  good      Data:  (3, 3, 0, 2, 2, 0)       Actual:  good\n",
            "Predicted:  unacc      Data:  (2, 0, 1, 2, 2, 0)       Actual:  unacc\n",
            "Predicted:  good      Data:  (1, 3, 2, 0, 2, 1)       Actual:  good\n",
            "Predicted:  good      Data:  (0, 3, 1, 2, 0, 0)       Actual:  good\n",
            "Predicted:  good      Data:  (2, 1, 3, 0, 0, 0)       Actual:  good\n",
            "Predicted:  good      Data:  (0, 2, 0, 0, 1, 2)       Actual:  good\n",
            "Predicted:  unacc      Data:  (3, 2, 1, 1, 0, 0)       Actual:  unacc\n",
            "Predicted:  unacc      Data:  (3, 2, 1, 2, 0, 0)       Actual:  unacc\n",
            "Predicted:  good      Data:  (0, 3, 1, 2, 1, 1)       Actual:  good\n",
            "Predicted:  good      Data:  (1, 3, 0, 1, 0, 2)       Actual:  unacc\n",
            "Predicted:  unacc      Data:  (0, 1, 1, 1, 0, 0)       Actual:  unacc\n",
            "Predicted:  good      Data:  (0, 2, 2, 1, 0, 1)       Actual:  good\n",
            "Predicted:  good      Data:  (3, 1, 3, 2, 2, 2)       Actual:  good\n",
            "Predicted:  good      Data:  (2, 2, 2, 2, 1, 1)       Actual:  good\n",
            "Predicted:  good      Data:  (0, 3, 2, 0, 0, 0)       Actual:  good\n",
            "Predicted:  acc      Data:  (1, 2, 2, 1, 2, 0)       Actual:  acc\n",
            "Predicted:  good      Data:  (2, 1, 0, 2, 2, 0)       Actual:  good\n",
            "Predicted:  good      Data:  (3, 0, 2, 0, 1, 1)       Actual:  good\n",
            "Predicted:  unacc      Data:  (0, 2, 2, 2, 2, 0)       Actual:  unacc\n",
            "Predicted:  good      Data:  (1, 3, 0, 1, 1, 2)       Actual:  good\n",
            "Predicted:  good      Data:  (3, 2, 3, 0, 2, 0)       Actual:  good\n",
            "Predicted:  good      Data:  (2, 1, 0, 2, 0, 1)       Actual:  good\n",
            "Predicted:  good      Data:  (3, 2, 2, 2, 0, 1)       Actual:  good\n",
            "Predicted:  good      Data:  (0, 0, 3, 0, 1, 2)       Actual:  good\n",
            "Predicted:  unacc      Data:  (0, 2, 0, 2, 2, 0)       Actual:  good\n",
            "Predicted:  good      Data:  (0, 0, 3, 1, 2, 2)       Actual:  good\n",
            "Predicted:  good      Data:  (0, 0, 1, 0, 0, 1)       Actual:  good\n",
            "Predicted:  good      Data:  (3, 0, 1, 1, 1, 2)       Actual:  good\n",
            "Predicted:  good      Data:  (3, 1, 1, 0, 0, 1)       Actual:  good\n",
            "Predicted:  good      Data:  (0, 0, 0, 1, 0, 2)       Actual:  unacc\n",
            "Predicted:  unacc      Data:  (1, 3, 3, 2, 0, 0)       Actual:  unacc\n",
            "Predicted:  good      Data:  (3, 0, 1, 2, 1, 0)       Actual:  good\n",
            "Predicted:  good      Data:  (3, 1, 2, 1, 1, 2)       Actual:  unacc\n",
            "Predicted:  good      Data:  (3, 1, 3, 0, 0, 2)       Actual:  good\n",
            "Predicted:  good      Data:  (2, 2, 3, 2, 0, 1)       Actual:  good\n",
            "Predicted:  unacc      Data:  (1, 0, 3, 2, 1, 2)       Actual:  unacc\n",
            "Predicted:  good      Data:  (1, 1, 3, 0, 0, 2)       Actual:  good\n",
            "Predicted:  good      Data:  (2, 0, 3, 0, 2, 1)       Actual:  good\n",
            "Predicted:  good      Data:  (3, 0, 4, 2, 0, 0)       Actual:  good\n",
            "Predicted:  good      Data:  (3, 3, 3, 2, 1, 2)       Actual:  good\n",
            "Predicted:  unacc      Data:  (0, 0, 1, 1, 1, 0)       Actual:  unacc\n",
            "Predicted:  good      Data:  (2, 2, 1, 0, 1, 2)       Actual:  good\n",
            "Predicted:  good      Data:  (0, 0, 1, 2, 0, 1)       Actual:  good\n",
            "Predicted:  good      Data:  (0, 3, 0, 2, 2, 0)       Actual:  good\n",
            "Predicted:  good      Data:  (3, 1, 2, 1, 2, 1)       Actual:  good\n",
            "Predicted:  good      Data:  (0, 3, 3, 2, 2, 1)       Actual:  good\n",
            "Predicted:  unacc      Data:  (3, 2, 3, 2, 1, 2)       Actual:  unacc\n",
            "Predicted:  good      Data:  (2, 1, 0, 0, 2, 2)       Actual:  good\n",
            "Predicted:  good      Data:  (1, 1, 3, 1, 2, 1)       Actual:  good\n",
            "Predicted:  good      Data:  (1, 0, 1, 2, 0, 1)       Actual:  good\n",
            "Predicted:  good      Data:  (2, 2, 3, 0, 1, 1)       Actual:  good\n",
            "Predicted:  unacc      Data:  (2, 3, 3, 1, 0, 2)       Actual:  unacc\n",
            "Predicted:  good      Data:  (0, 3, 2, 0, 2, 2)       Actual:  good\n",
            "Predicted:  good      Data:  (0, 3, 2, 0, 1, 2)       Actual:  good\n",
            "Predicted:  unacc      Data:  (2, 2, 1, 2, 1, 0)       Actual:  vgood\n",
            "Predicted:  good      Data:  (3, 0, 2, 1, 0, 2)       Actual:  good\n",
            "Predicted:  good      Data:  (0, 1, 1, 1, 2, 2)       Actual:  good\n",
            "Predicted:  acc      Data:  (1, 1, 0, 1, 0, 2)       Actual:  acc\n",
            "Predicted:  unacc      Data:  (1, 1, 0, 2, 1, 2)       Actual:  unacc\n",
            "Predicted:  unacc      Data:  (2, 0, 3, 2, 2, 0)       Actual:  unacc\n",
            "Predicted:  good      Data:  (3, 1, 2, 0, 0, 0)       Actual:  good\n",
            "Predicted:  good      Data:  (3, 1, 1, 1, 0, 1)       Actual:  good\n",
            "Predicted:  good      Data:  (3, 1, 1, 1, 2, 1)       Actual:  good\n",
            "Predicted:  vgood      Data:  (1, 1, 2, 2, 0, 0)       Actual:  vgood\n",
            "Predicted:  good      Data:  (3, 2, 1, 0, 0, 2)       Actual:  good\n",
            "Predicted:  good      Data:  (3, 3, 1, 1, 2, 1)       Actual:  good\n",
            "Predicted:  good      Data:  (2, 1, 1, 2, 2, 1)       Actual:  good\n",
            "Predicted:  good      Data:  (3, 0, 0, 0, 0, 2)       Actual:  good\n",
            "Predicted:  good      Data:  (1, 0, 3, 0, 1, 0)       Actual:  good\n",
            "Predicted:  good      Data:  (1, 2, 1, 1, 1, 2)       Actual:  unacc\n",
            "Predicted:  good      Data:  (2, 2, 0, 1, 2, 2)       Actual:  unacc\n",
            "Predicted:  good      Data:  (0, 2, 3, 0, 1, 0)       Actual:  good\n",
            "Predicted:  good      Data:  (1, 1, 2, 0, 2, 0)       Actual:  good\n",
            "Predicted:  good      Data:  (1, 3, 3, 2, 0, 1)       Actual:  good\n",
            "Predicted:  unacc      Data:  (1, 0, 2, 2, 2, 2)       Actual:  unacc\n",
            "Predicted:  good      Data:  (3, 2, 0, 1, 0, 0)       Actual:  unacc\n",
            "Predicted:  vgood      Data:  (1, 2, 1, 2, 0, 0)       Actual:  vgood\n",
            "Predicted:  good      Data:  (0, 0, 1, 0, 1, 1)       Actual:  good\n",
            "Predicted:  unacc      Data:  (2, 3, 0, 2, 0, 2)       Actual:  unacc\n",
            "Predicted:  vgood      Data:  (1, 1, 3, 2, 1, 0)       Actual:  vgood\n",
            "Predicted:  good      Data:  (1, 3, 0, 0, 1, 1)       Actual:  good\n",
            "Predicted:  good      Data:  (1, 1, 3, 2, 0, 1)       Actual:  good\n",
            "Predicted:  good      Data:  (1, 1, 0, 2, 0, 1)       Actual:  good\n",
            "Predicted:  unacc      Data:  (0, 2, 3, 1, 0, 0)       Actual:  unacc\n",
            "Predicted:  good      Data:  (2, 2, 1, 2, 1, 1)       Actual:  good\n",
            "Predicted:  good      Data:  (1, 2, 1, 0, 2, 1)       Actual:  good\n",
            "Predicted:  good      Data:  (2, 1, 2, 0, 2, 2)       Actual:  good\n",
            "Predicted:  good      Data:  (1, 0, 1, 0, 1, 2)       Actual:  good\n",
            "Predicted:  vgood      Data:  (1, 2, 0, 1, 0, 0)       Actual:  vgood\n",
            "Predicted:  good      Data:  (3, 1, 0, 0, 1, 2)       Actual:  good\n",
            "Predicted:  good      Data:  (3, 3, 1, 0, 1, 0)       Actual:  good\n",
            "Predicted:  unacc      Data:  (3, 1, 3, 2, 1, 0)       Actual:  unacc\n",
            "Predicted:  unacc      Data:  (0, 1, 1, 1, 0, 2)       Actual:  unacc\n",
            "Predicted:  good      Data:  (0, 0, 0, 1, 2, 1)       Actual:  good\n",
            "Predicted:  vgood      Data:  (1, 0, 1, 1, 0, 0)       Actual:  vgood\n",
            "Predicted:  good      Data:  (2, 2, 1, 0, 2, 2)       Actual:  good\n",
            "Predicted:  good      Data:  (3, 0, 1, 2, 0, 2)       Actual:  good\n",
            "Predicted:  unacc      Data:  (1, 0, 1, 2, 0, 2)       Actual:  unacc\n",
            "Predicted:  good      Data:  (1, 3, 2, 1, 1, 2)       Actual:  unacc\n",
            "Predicted:  acc      Data:  (1, 1, 1, 2, 2, 0)       Actual:  acc\n",
            "Predicted:  unacc      Data:  (0, 2, 0, 1, 0, 0)       Actual:  unacc\n",
            "Predicted:  unacc      Data:  (2, 3, 1, 2, 0, 2)       Actual:  unacc\n",
            "Predicted:  good      Data:  (0, 2, 0, 0, 1, 0)       Actual:  good\n",
            "Predicted:  good      Data:  (1, 3, 1, 1, 0, 1)       Actual:  good\n",
            "Predicted:  good      Data:  (1, 0, 1, 1, 2, 1)       Actual:  good\n",
            "Predicted:  unacc      Data:  (3, 2, 2, 1, 0, 2)       Actual:  unacc\n",
            "Predicted:  unacc      Data:  (0, 2, 3, 1, 2, 0)       Actual:  unacc\n",
            "Predicted:  unacc      Data:  (2, 2, 3, 1, 2, 0)       Actual:  unacc\n",
            "Predicted:  good      Data:  (3, 0, 1, 1, 0, 0)       Actual:  good\n",
            "Predicted:  good      Data:  (1, 2, 0, 0, 1, 2)       Actual:  good\n",
            "Predicted:  unacc      Data:  (1, 2, 2, 2, 2, 2)       Actual:  unacc\n",
            "Predicted:  good      Data:  (2, 0, 1, 0, 0, 0)       Actual:  good\n",
            "Predicted:  good      Data:  (3, 0, 4, 0, 2, 0)       Actual:  good\n",
            "Predicted:  good      Data:  (3, 3, 2, 0, 2, 1)       Actual:  good\n",
            "Predicted:  good      Data:  (0, 3, 0, 0, 0, 2)       Actual:  good\n",
            "Predicted:  good      Data:  (0, 1, 3, 0, 0, 2)       Actual:  good\n",
            "Predicted:  good      Data:  (1, 3, 1, 1, 1, 1)       Actual:  good\n",
            "Predicted:  acc      Data:  (2, 1, 1, 1, 1, 0)       Actual:  acc\n",
            "Predicted:  good      Data:  (3, 3, 3, 1, 2, 1)       Actual:  good\n",
            "Predicted:  unacc      Data:  (0, 2, 3, 2, 1, 0)       Actual:  unacc\n",
            "Predicted:  unacc      Data:  (3, 1, 1, 1, 0, 2)       Actual:  unacc\n",
            "Predicted:  acc      Data:  (1, 1, 0, 1, 2, 0)       Actual:  acc\n",
            "Predicted:  good      Data:  (0, 3, 2, 2, 2, 1)       Actual:  good\n",
            "Predicted:  good      Data:  (3, 1, 2, 0, 1, 0)       Actual:  good\n",
            "Predicted:  unacc      Data:  (2, 2, 0, 1, 1, 0)       Actual:  unacc\n",
            "Predicted:  unacc      Data:  (3, 2, 2, 1, 2, 0)       Actual:  unacc\n",
            "Predicted:  good      Data:  (2, 1, 3, 0, 1, 1)       Actual:  good\n",
            "Predicted:  good      Data:  (0, 1, 2, 0, 2, 1)       Actual:  good\n",
            "Predicted:  good      Data:  (3, 0, 1, 1, 2, 1)       Actual:  good\n"
          ],
          "name": "stdout"
        }
      ]
    },
    {
      "cell_type": "code",
      "metadata": {
        "id": "Lo6PQpgIZHL7",
        "colab_type": "code",
        "colab": {}
      },
      "source": [
        ""
      ],
      "execution_count": 0,
      "outputs": []
    }
  ]
}